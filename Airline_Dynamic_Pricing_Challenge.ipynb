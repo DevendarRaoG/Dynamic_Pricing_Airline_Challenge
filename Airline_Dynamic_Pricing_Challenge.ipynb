{
 "cells": [
  {
   "cell_type": "markdown",
   "metadata": {},
   "source": [
    "## Airline Dynamic Pricing "
   ]
  },
  {
   "cell_type": "markdown",
   "metadata": {},
   "source": [
    "### The problem statement: You recently started Aviato.com, a startup that helps airlines set ticket prices.\n",
    "\n",
    "Aviato's success will depend on a function called pricing_function. This notebook already includes a very simple version of pricing_function. You will modify pricing_function to maximize the total revenue collected for all flights in our simulated environment.\n",
    "\n",
    "For each flight, pricing_function will be run once per (simulated) day to set that day's ticket price. The seats you don't sell today will be available to sell tomorrow, unless the flight leaves that day.\n",
    "\n",
    "Your pricing_function is run for one flight at a time, and it takes following inputs:\n",
    "\n",
    "Number of days until the flight\n",
    "Number of seats they have left to sell\n",
    "A variable called demand_level that determines how many tickets you can sell at any given price.\n",
    "The quantity you sell at any price is:\n",
    "\n",
    "quantity_sold = demand_level - price\n",
    "\n",
    "Ticket quantities are capped at the number of seats available.\n",
    "\n",
    "Your function will output the ticket price.\n",
    "\n",
    "You learn the demand_level for each day at the time you need to make predictions for that day. For all days in the future, you only know demand_level will be drawn from the uniform distribution between 100 and 200. So, for any day in the future, it is equally likely to be each value between 100 and 200.\n",
    "\n",
    "In case this is still unclear, some relevant implementation code is shown below."
   ]
  },
  {
   "cell_type": "markdown",
   "metadata": {},
   "source": [
    "This solution uses an optimization technique called dynamic programming. Dynamic programming starts by solving an optimization problem in a very limited scenario, and then creates an iterative rule to expand to larger problem.\n",
    "\n",
    "In our case, we first solve for the optimal price when you only have 1 day to sell tickets before the flight. Then we continually step back to longer time-horizons one day at a time.\n",
    "\n",
    "This solution highlights two of the most important ideas from the fields of dynamic programming and reinforcement learning.\n",
    "\n",
    "The value function returns the best outcome achievable from any input state. In our case, V(tickets_left, days_left) returns the best revenue you can expect to achieve given the number of tickets you have and the number of days left before the flight.\n",
    "The Q Function is similar to the value function. But it includes your decision as an input, and it returns the expected revenue even if that is not based on an optimal decision policy.\n",
    "The distinction may become clearer when you see it in practice below.\n",
    "\n",
    "The output of the Q function for T+1 days before the flight depends how much revenue is the sum of\n",
    "\n",
    "revenue from flights sold that day\n",
    "revenue earned in the last T days from the remaining tickets.\n",
    "Daily revenue is straightforward to calculate (as you'll see below.) Since we calculate Q and the value function (denoted V) start near flight time, and then iteratively work backwards, we can look up revenue from the last T days from the value function.\n",
    "\n",
    "Once we have Q at time T+1, we calculate V on that day by looking up the revenue associated with the best decision from Q.\n",
    "\n",
    "Again, this should become clearer as you see it in code."
   ]
  },
  {
   "cell_type": "markdown",
   "metadata": {},
   "source": [
    "The Base Case: Selling Tickets For a Single Day\n",
    "You want to maximize revenue, given the knowledge that\n",
    "\n",
    "quantity_sold = demand_level - price\n",
    "\n",
    "You may want to keep the price high rather than sell all remaining tickets. So, this problem is not as trivial as finding the price to sell all available tickets. Instead, you will go back to find the price and quantity pair that maximize\n",
    "\n",
    "revenue = price * quantity_sold\n",
    "\n",
    "It's easier to think about optimization in terms of a single choice variable, rather than using an equation that explicitly includes both price and quantity_sold. To do this, first rearrange the quantity_sold equation above with simple algebra to solve for price:\n",
    "\n",
    "price = demand_level - quantity_sold\n",
    "\n",
    "Plug this expression for price into the revenue equation and you have\n",
    "\n",
    "revenue = (demand_level - quantity_sold) * quantity_sold\n",
    "\n",
    "*note: you could also express revenue entirely in terms of price instead of quantity, but would make a later steps a little messier.\n",
    "\n",
    "Since demand_level is just a known number when you make your daily price decisions, you can plot revenue as an equation that depends only on the quantity you sell.\n",
    "\n",
    "For the sake of an example, here is the plot when demand_level is 150."
   ]
  },
  {
   "cell_type": "code",
   "execution_count": 37,
   "metadata": {},
   "outputs": [],
   "source": [
    "from numpy.random import uniform, seed\n",
    "from numpy import floor\n",
    "from collections import namedtuple\n",
    "import json\n",
    "from IPython.display import display,Javascript"
   ]
  },
  {
   "cell_type": "markdown",
   "metadata": {},
   "source": [
    "## Below code is a simulator of revenue for tickets sold and no of days\n",
    "- The Simulator\n",
    "We will run your pricing function in a simulator to test how well it performs on a range of flight situations. Run the following code cell to set up your simulation environment:"
   ]
  },
  {
   "cell_type": "code",
   "execution_count": 38,
   "metadata": {},
   "outputs": [],
   "source": [
    "def _tickets_sold(p, demand_level, max_qty):\n",
    "        quantity_demanded = floor(max(0, p - demand_level))\n",
    "        return min(quantity_demanded, max_qty)\n",
    "\n",
    "def simulate_revenue(days_left, tickets_left, pricing_function, rev_to_date=0, demand_level_min=100, demand_level_max=200, verbose=False):\n",
    "    if (days_left == 0) or (tickets_left == 0):\n",
    "        if verbose:\n",
    "            if (days_left == 0):\n",
    "                print(\"The flight took off today. \")\n",
    "            if (tickets_left == 0):\n",
    "                print(\"This flight is booked full.\")\n",
    "            print(\"Total Revenue: ${:.0f}\".format(rev_to_date))\n",
    "        return rev_to_date\n",
    "    else:\n",
    "        demand_level = uniform(demand_level_min, demand_level_max)\n",
    "        p = pricing_function(days_left, tickets_left, demand_level)\n",
    "        q = _tickets_sold(demand_level, p, tickets_left)\n",
    "        if verbose:\n",
    "            print(\"{:.0f} days before flight: \"\n",
    "                  \"Started with {:.0f} seats. \"\n",
    "                  \"Demand level: {:.0f}. \"\n",
    "                  \"Price set to ${:.0f}. \"\n",
    "                  \"Sold {:.0f} tickets. \"\n",
    "                  \"Daily revenue is {:.0f}. Total revenue-to-date is {:.0f}. \"\n",
    "                  \"{:.0f} seats remaining\".format(days_left, tickets_left, demand_level, p, q, p*q, p*q+rev_to_date, tickets_left-q))\n",
    "        return simulate_revenue(days_left = days_left-1,\n",
    "                              tickets_left = tickets_left-q,\n",
    "                              pricing_function=pricing_function,\n",
    "                              rev_to_date=rev_to_date + p * q,\n",
    "                              demand_level_min=demand_level_min,\n",
    "                              demand_level_max=demand_level_max,\n",
    "                              verbose=verbose)\n",
    "\n",
    "def _save_score(score):\n",
    "    message = {\n",
    "        'jupyterEvent': 'custom.exercise_interaction',\n",
    "        'data': {\n",
    "            'learnTutorialId': 117,\n",
    "            'interactionType': \"check\",\n",
    "            'questionId': 'Aug31OptimizationChallenge',\n",
    "            'outcomeType': 'Pass',\n",
    "            'valueTowardsCompletion': score/10000,\n",
    "            'failureMessage': None,\n",
    "            'learnToolsVersion': \"Testing\"\n",
    "        }\n",
    "    }\n",
    "    js = 'parent.postMessage(%s, \"*\")' % json.dumps(message)\n",
    "    display(Javascript(js))\n",
    "\n",
    "def score_me(pricing_function, sims_per_scenario=200):\n",
    "    seed(0)\n",
    "    Scenario = namedtuple('Scenario', 'n_days n_tickets')\n",
    "    scenarios = [Scenario(n_days=100, n_tickets=100),\n",
    "                 Scenario(n_days=14, n_tickets=50),\n",
    "                 Scenario(n_days=2, n_tickets=20),\n",
    "                Scenario(n_days=1, n_tickets=3),\n",
    "                 ]\n",
    "    scenario_scores = []\n",
    "    for s in scenarios:\n",
    "        scenario_score = sum(simulate_revenue(s.n_days, s.n_tickets, pricing_function)\n",
    "                                     for _ in range(sims_per_scenario)) / sims_per_scenario\n",
    "        print(\"Ran {:.0f} flights starting {:.0f} days before flight with {:.0f} tickets. \"\n",
    "              \"Average revenue: ${:.0f}\".format(sims_per_scenario,\n",
    "                                                s.n_days,\n",
    "                                                s.n_tickets,\n",
    "                                                scenario_score))\n",
    "        scenario_scores.append(scenario_score)\n",
    "    score = sum(scenario_scores) / len(scenario_scores)\n",
    "    try:\n",
    "        _save_score(score)\n",
    "    except:\n",
    "        pass\n",
    "    print(\"Average revenue across all flights is ${:.0f}\".format(score))"
   ]
  },
  {
   "cell_type": "markdown",
   "metadata": {},
   "source": [
    "## Exercising the price optimization for a given constant demand level and days left \n",
    "1. To derive understanding of the dynamic pricing parameters,functions and formulas.\n",
    "2. TO visualize intial results and understanding"
   ]
  },
  {
   "cell_type": "code",
   "execution_count": 39,
   "metadata": {},
   "outputs": [
    {
     "data": {
      "image/png": "[encoded data removed]",
      "text/plain": [
       "<Figure size 432x288 with 1 Axes>"
      ]
     },
     "metadata": {
      "needs_background": "light"
     },
     "output_type": "display_data"
    }
   ],
   "source": [
    "import matplotlib.pyplot as plt\n",
    "import numpy as np\n",
    "import warnings\n",
    "warnings.filterwarnings('ignore')\n",
    "\n",
    "demand_level=150\n",
    "\n",
    "#Plotting the revenue for quantity to check the price points at different demand levels\n",
    "revenue=[(demand_level-q)*q for q in range(demand_level)]\n",
    "revenue    \n",
    "\n",
    "plt.figure()\n",
    "plt.plot(revenue, label='Revenue')\n",
    "plt.xlabel('Seats sold')\n",
    "plt.ylabel('Dollars')\n",
    "\n",
    "plt.ylim(ymin=0)\n",
    "plt.xlim(xmin=0)\n",
    "\n",
    "\n",
    "opt_q=np.argmax(revenue)\n",
    "plt.vlines(x=opt_q,ymin=0,ymax=max(revenue), color='red',linestyles='--',label='Optimal quantity')\n",
    "plt.legend(loc='upper right')\n",
    "# plt.xlabel(demand_level)\n",
    "# plt.ylabel(revenue)\n",
    "plt.show()"
   ]
  },
  {
   "cell_type": "markdown",
   "metadata": {},
   "source": [
    "From the above plot we can say that for a demend level 150, the revenue id maximized when the total no of seats filed is ~78. Thats means for each ticket sold, which is q which is subtracted from the total demand level which gives the price(demand_level-quantity sold(q- which is 1 to 150)) and then multiplied by the quatity sold gives the revenue for that particular demand level. "
   ]
  },
  {
   "cell_type": "markdown",
   "metadata": {},
   "source": [
    "Now Below we define different demand levels for different no of days before the flight starrts unlike the above where the no of days is todays and demand level is constant(150) "
   ]
  },
  {
   "cell_type": "code",
   "execution_count": 45,
   "metadata": {},
   "outputs": [],
   "source": [
    "n_demand_levels = 11\n",
    "min_demand_level = 100\n",
    "max_demand_level = 200\n",
    "demand_levels = np.linspace(min_demand_level, max_demand_level, n_demand_levels)\n",
    "\n",
    "max_tickets = 200\n",
    "max_days = 150\n",
    "\n",
    "# Q function parameters are: \n",
    "#n_sold in day, tickets_left to start day, demand_level, days_left\n",
    "Q = np.zeros([max_tickets, max_tickets, n_demand_levels, max_days])\n",
    "# V func parameters are: n_left and n_days\n",
    "V = np.zeros([max_tickets, max_days])"
   ]
  },
  {
   "cell_type": "markdown",
   "metadata": {},
   "source": [
    "### The base case: Selling tickets with one day left:\n",
    "We fill the q value with revenue=price*q_sold as there is only one day left:\n",
    "\n",
    "Basically what we are trying to do in the below code is:\n",
    "1. we take differet values for demand levels for different values of days and \n",
    "2. Find the optimim price \n",
    "3. For each demand_level, choose the optimum number to sell. Output of this is array .of size n_demand_levels and the input the price to the Q function which gives the revenue for different demand levels\n",
    "4. And then find the average revenue for each demand level.(Price *tickets sold). \n",
    "5. We take average since we don't know demand level ahead of time and all are equally likely\n",
    "\n",
    "- Note:All the code is for one day but different demand levels to get an optimum price point and ultimately optimum revenule for the nof of tickets sold at a given demand level"
   ]
  },
  {
   "cell_type": "code",
   "execution_count": 52,
   "metadata": {},
   "outputs": [],
   "source": [
    "for tickets_left in range(max_tickets):\n",
    "    for tickets_sold in range(tickets_left+1): # add 1 to offset 0 indexing. Allow selling all tickets\n",
    "        for demand_index, demand_level in enumerate(demand_levels):\n",
    "            # Zerro indicate never set zero prices\n",
    "            price = max(demand_level - tickets_sold, 0)\n",
    "            Q[tickets_sold, tickets_left, demand_index, 0] = price * tickets_sold\n",
    "    # revenue for optimal quantity at every demand level \n",
    "    revenue_from_best_quantity_at_each_demand_level = Q[:, tickets_left, :, 0].max(axis=0)\n",
    "    # take the average, since we don't know demand level ahead of time and all are equally likely\n",
    "    V[tickets_left, 0] = revenue_from_best_quantity_at_each_demand_level.mean()"
   ]
  },
  {
   "cell_type": "markdown",
   "metadata": {},
   "source": [
    "### The General Case: Solving for Other Time Horizons\n",
    "Unlike above we now increase the complexity by iteratively calculating for back time periods.\n",
    "Observe that in the above V func have no of days as '0'. \n",
    "But now it will have 'days_left'\n",
    "1. The Q function now calculattescurrent revenue but now adds the leftover tickets."
   ]
  },
  {
   "cell_type": "code",
   "execution_count": 47,
   "metadata": {},
   "outputs": [],
   "source": [
    "for days_left in range(1, max_days):\n",
    "    for tickets_left in range(max_tickets):\n",
    "        for tickets_sold in range(tickets_left):\n",
    "            for demand_index, demand_level in enumerate(demand_levels):\n",
    "                price = max(demand_level - tickets_sold, 0)\n",
    "                rev_today = price * tickets_sold\n",
    "                Q[tickets_sold, tickets_left, demand_index, days_left] = rev_today + V[tickets_left-tickets_sold, days_left-1]\n",
    "        expected_total_rev_from_best_quantity_at_each_demand_level = Q[:, tickets_left, :, days_left].max(axis=0)\n",
    "        V[tickets_left, days_left] = expected_total_rev_from_best_quantity_at_each_demand_level.mean()"
   ]
  },
  {
   "cell_type": "markdown",
   "metadata": {},
   "source": [
    "We have Q and V. How do we use them?\n",
    "\n",
    "For any given number of tickets, days_left and demand_level, we look in Q to find the number of tickets with the highest Q-value.\n",
    "\n",
    "Here is our pricing function that implements that:"
   ]
  },
  {
   "cell_type": "code",
   "execution_count": 48,
   "metadata": {},
   "outputs": [],
   "source": [
    "def pricing_function(days_left, tickets_left, demand_level):\n",
    "    demand_level_index = np.abs(demand_level - demand_levels).argmin()\n",
    "    day_index = days_left - 1 # arrays are 0 indexed\n",
    "    tickets_index = int(tickets_left)  # in case it comes in as float, but need to index with it\n",
    "    relevant_Q_vals = Q[:, tickets_index, demand_level_index, day_index]\n",
    "    desired_quantity = relevant_Q_vals.argmax()# offset 0 indexing\n",
    "    price = demand_level - desired_quantity\n",
    "    return price"
   ]
  },
  {
   "cell_type": "code",
   "execution_count": 49,
   "metadata": {},
   "outputs": [
    {
     "name": "stdout",
     "output_type": "stream",
     "text": [
      "Ran 200 flights starting 100 days before flight with 100 tickets. Average revenue: $18413\n",
      "Ran 200 flights starting 14 days before flight with 50 tickets. Average revenue: $8492\n",
      "Ran 200 flights starting 2 days before flight with 20 tickets. Average revenue: $2897\n",
      "Ran 200 flights starting 1 days before flight with 3 tickets. Average revenue: $431\n"
     ]
    },
    {
     "data": {
      "application/javascript": [
       "parent.postMessage({\"jupyterEvent\": \"custom.exercise_interaction\", \"data\": {\"learnTutorialId\": 117, \"interactionType\": \"check\", \"questionId\": \"Aug31OptimizationChallenge\", \"outcomeType\": \"Pass\", \"valueTowardsCompletion\": 0.7558045931440118, \"failureMessage\": null, \"learnToolsVersion\": \"Testing\"}}, \"*\")"
      ],
      "text/plain": [
       "<IPython.core.display.Javascript object>"
      ]
     },
     "metadata": {},
     "output_type": "display_data"
    },
    {
     "name": "stdout",
     "output_type": "stream",
     "text": [
      "Average revenue across all flights is $7558\n"
     ]
    }
   ],
   "source": [
    "score_me(pricing_function)"
   ]
  },
  {
   "cell_type": "markdown",
   "metadata": {},
   "source": [
    "### Therefor for 200 flights and different days of flight start date and different number of tickets we have optimized the average revenue and concluded the same for different flights"
   ]
  }
 ],
 "metadata": {
  "kernelspec": {
   "display_name": "Python 3",
   "language": "python",
   "name": "python3"
  },
  "language_info": {
   "codemirror_mode": {
    "name": "ipython",
    "version": 3
   },
   "file_extension": ".py",
   "mimetype": "text/x-python",
   "name": "python",
   "nbconvert_exporter": "python",
   "pygments_lexer": "ipython3",
   "version": "3.7.3"
  }
 },
 "nbformat": 4,
 "nbformat_minor": 2
}
